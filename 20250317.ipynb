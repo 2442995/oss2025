{
  "nbformat": 4,
  "nbformat_minor": 0,
  "metadata": {
    "colab": {
      "provenance": [],
      "mount_file_id": "1JS9v6IfXGhn6NeQMPvyqcBgThpE1yHBR",
      "authorship_tag": "ABX9TyMp2ufl3Cqo0yE+/l2h9py4",
      "include_colab_link": true
    },
    "kernelspec": {
      "name": "python3",
      "display_name": "Python 3"
    },
    "language_info": {
      "name": "python"
    }
  },
  "cells": [
    {
      "cell_type": "markdown",
      "metadata": {
        "id": "view-in-github",
        "colab_type": "text"
      },
      "source": [
        "<a href=\"https://colab.research.google.com/github/2442995/oss2025/blob/main/20250317.ipynb\" target=\"_parent\"><img src=\"https://colab.research.google.com/assets/colab-badge.svg\" alt=\"Open In Colab\"/></a>"
      ]
    },
    {
      "cell_type": "code",
      "source": [
        "# prompt: /BusanRvrwtLevelInfoService/getRvrwtLevelInfo 로부터 하천수위 높은순으로 정리해줘\n",
        "\n",
        "import requests\n",
        "import pandas as pd\n",
        "\n",
        "# API endpoint\n",
        "url = \"/BusanRvrwtLevelInfoService/getRvrwtLevelInfo\"  # Replace with the actual API endpoint\n",
        "\n",
        "try:\n",
        "    # Make the API request (replace with your actual API call parameters if needed)\n",
        "    response = requests.get(url)\n",
        "    response.raise_for_status()  # Raise an exception for bad status codes\n",
        "\n",
        "    # Assuming the API returns data in JSON format\n",
        "    data = response.json()\n",
        "\n",
        "    # Extract relevant information and create a DataFrame\n",
        "    if isinstance(data, list) and len(data)>0 and isinstance(data[0],dict):\n",
        "      df = pd.DataFrame(data)\n",
        "\n",
        "      # Check if 'wtrLvl' column exists before sorting\n",
        "      if 'wtrLvl' in df.columns:\n",
        "          # Sort by 'wtrLvl' column in descending order\n",
        "          df_sorted = df.sort_values('wtrLvl', ascending=False)\n",
        "          print(df_sorted)\n",
        "      else:\n",
        "          print(\"Error: 'wtrLvl' column not found in the API response.\")\n",
        "\n",
        "    else:\n",
        "        print(\"Error: Invalid or empty API response data.\")\n",
        "\n",
        "except requests.exceptions.RequestException as e:\n",
        "    print(f\"Error during API request: {e}\")\n",
        "except KeyError as e:\n",
        "    print(f\"Error: Key not found in API response: {e}\")\n",
        "except Exception as e:\n",
        "    print(f\"An unexpected error occurred: {e}\")\n"
      ],
      "metadata": {
        "id": "l1nGopk17Vaf"
      },
      "execution_count": null,
      "outputs": []
    }
  ]
}